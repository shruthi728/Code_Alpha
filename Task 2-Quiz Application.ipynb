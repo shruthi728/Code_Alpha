{
 "cells": [
  {
   "cell_type": "markdown",
   "id": "b4b14051",
   "metadata": {},
   "source": [
    "# TASK 2: QUIZ APPLICATION"
   ]
  },
  {
   "cell_type": "code",
   "execution_count": 8,
   "id": "2a0cc55b",
   "metadata": {},
   "outputs": [],
   "source": [
    "from string import ascii_lowercase"
   ]
  },
  {
   "cell_type": "code",
   "execution_count": 9,
   "id": "35029124",
   "metadata": {},
   "outputs": [
    {
     "name": "stdout",
     "output_type": "stream",
     "text": [
      "\n",
      "Question 1:\n",
      "Lysosomes are also called ______?\n",
      "  a) Active sacs\n",
      "  b) Fluid sacs\n",
      "  c) Inactive sacs\n",
      "  d) Suicidal sacs\n",
      "Lysosomes are also called ______? Suicidal sacs\n",
      "Correct!⭐\n",
      "\n",
      "Question 2:\n",
      "Each human possesses ____ pairs of chromosomes?\n",
      "  a) 21\n",
      "  b) 22\n",
      "  c) 23\n",
      "  d) 46\n",
      "Each human possesses ____ pairs of chromosomes? 23\n",
      "Correct!⭐\n",
      "\n",
      "Question 3:\n",
      "'RMP' stands for??\n",
      "  a) Reading membrane potential\n",
      "  b) Relative maximum pumping\n",
      "  c) Resting Membrane Potential\n",
      "  d) Resting membrane presynaptic\n",
      "'RMP' stands for?? Resting Membrane Potential\n",
      "Correct!⭐\n",
      "\n",
      "Question 4:\n",
      "Which of the following is known as the powerhouse of the cell?\n",
      "  a) Golgi bodies\n",
      "  b) Mitochondria\n",
      "  c) Nucleus\n",
      "  d) Ribosomes\n",
      "Which of the following is known as the powerhouse of the cell? Nucleus\n",
      "Good try! The correct answer is 'Mitochondria', not 'Nucleus' :)\n",
      "\n",
      "You got 3 correct out of 4 questions. Thank you for participating!\n"
     ]
    }
   ],
   "source": [
    "QUESTIONS = {\n",
    "    \"Lysosomes are also called ______\": [\n",
    "        \"Suicidal sacs\", \"Active sacs\", \"Inactive sacs\", \"Fluid sacs\"\n",
    "    ],\n",
    "    \"Each human possesses ____ pairs of chromosomes\": [\n",
    "        \"23\", \"21\", \"46\", \"22\"\n",
    "    ],\n",
    "    \"'RMP' stands for?\": [\n",
    "        \"Resting Membrane Potential\", \"Relative maximum pumping\", \"Resting membrane presynaptic\", \"Reading membrane potential\"\n",
    "    ],\n",
    "    \"Which of the following is known as the powerhouse of the cell\": [\n",
    "        \"Mitochondria\",\n",
    "        \"Nucleus\",\n",
    "        \"Ribosomes\",\n",
    "        \"Golgi bodies\",\n",
    "    ],\n",
    "}\n",
    "\n",
    "num_correct = 0\n",
    "for num, (question, alternatives) in enumerate(QUESTIONS.items(), start=1):\n",
    "    print(f\"\\nQuestion {num}:\")\n",
    "    print(f\"{question}?\")\n",
    "    correct_answer = alternatives[0]\n",
    "    labeled_alternatives = dict(zip(ascii_lowercase, sorted(alternatives)))\n",
    "    for label, alternative in labeled_alternatives.items():\n",
    "        print(f\"  {label}) {alternative}\")\n",
    "\n",
    "    answer = input(f\"{question}? \")\n",
    "    if answer == correct_answer:\n",
    "        num_correct += 1\n",
    "        print(\"Correct!⭐\")\n",
    "    else:\n",
    "        print(f\"Good try! The correct answer is {correct_answer!r}, not {answer!r} :)\")\n",
    "        \n",
    "print(f\"\\nYou got {num_correct} correct out of {num} questions. Thank you for participating!\")"
   ]
  },
  {
   "cell_type": "code",
   "execution_count": null,
   "id": "6e07eb4b",
   "metadata": {},
   "outputs": [],
   "source": []
  }
 ],
 "metadata": {
  "kernelspec": {
   "display_name": "Python 3 (ipykernel)",
   "language": "python",
   "name": "python3"
  },
  "language_info": {
   "codemirror_mode": {
    "name": "ipython",
    "version": 3
   },
   "file_extension": ".py",
   "mimetype": "text/x-python",
   "name": "python",
   "nbconvert_exporter": "python",
   "pygments_lexer": "ipython3",
   "version": "3.9.12"
  }
 },
 "nbformat": 4,
 "nbformat_minor": 5
}
